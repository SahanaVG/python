{
 "cells": [
  {
   "cell_type": "code",
   "execution_count": null,
   "id": "892440e8",
   "metadata": {},
   "outputs": [],
   "source": [
    "!whereis pyspark"
   ]
  },
  {
   "cell_type": "code",
   "execution_count": null,
   "id": "39805f31",
   "metadata": {},
   "outputs": [],
   "source": [
    "import findspark\n",
    "findspark.init(\"/usr/local/spark\")"
   ]
  },
  {
   "cell_type": "code",
   "execution_count": null,
   "id": "a840bb94",
   "metadata": {},
   "outputs": [],
   "source": [
    "from pyspark.sql import SparkSession\n",
    "spark = SparkSession.builder.appName(\"Insurance_Claim\")\\\n",
    "        .config(\"spark.sql.warehouse.dir\", \"hdfs://localhost:54310/user/hive/warehouse\")\\\n",
    "        .enableHiveSupport()\\\n",
    "        .getOrCreate()"
   ]
  },
  {
   "cell_type": "code",
   "execution_count": null,
   "id": "aaf55059",
   "metadata": {},
   "outputs": [],
   "source": [
    "#importing data\n",
    "CarFeatures=spark.read.csv('Car features.csv',header=True, inferSchema=True)\n",
    "PolicyFeatures=spark.read.csv('Policy features.csv',header=True, inferSchema=True)\n",
    "InsurenceClaim=spark.read.csv('Insurence claim.csv',header=True, inferSchema=True)\n"
   ]
  },
  {
   "cell_type": "code",
   "execution_count": null,
   "id": "ab263579",
   "metadata": {},
   "outputs": [],
   "source": [
    "CarFeatures.show()"
   ]
  },
  {
   "cell_type": "code",
   "execution_count": null,
   "id": "a1cd11df",
   "metadata": {},
   "outputs": [],
   "source": [
    "PolicyFeatures.show()"
   ]
  },
  {
   "cell_type": "code",
   "execution_count": null,
   "id": "7238ee70",
   "metadata": {},
   "outputs": [],
   "source": [
    "InsurenceClaim.show()"
   ]
  },
  {
   "cell_type": "code",
   "execution_count": null,
   "id": "c64e7848",
   "metadata": {},
   "outputs": [],
   "source": [
    "#writing to hive and saving as tables\n",
    "InsurenceClaim.write.saveAsTable(\"InsurenceClaim\")\n",
    "CarFeatures.write.saveAsTable(\"CarFeatures\")\n",
    "PolicyFeatures.write.saveAsTable(\"PolicyFeatures\")"
   ]
  },
  {
   "cell_type": "code",
   "execution_count": null,
   "id": "990b3e70",
   "metadata": {},
   "outputs": [],
   "source": [
    "spark.sql('show tables').show()"
   ]
  },
  {
   "cell_type": "code",
   "execution_count": null,
   "id": "5ee0ef4b",
   "metadata": {},
   "outputs": [],
   "source": [
    "Policy=spark.sql(\"select * from PolicyFeatures limit 5\")\n",
    "Policy.show()"
   ]
  },
  {
   "cell_type": "code",
   "execution_count": null,
   "id": "0f3709f3",
   "metadata": {},
   "outputs": [],
   "source": [
    "CarFeatures.printSchema()"
   ]
  },
  {
   "cell_type": "code",
   "execution_count": null,
   "id": "bbac3f25",
   "metadata": {},
   "outputs": [],
   "source": [
    "from pyspark.sql.functions import col, isnan, when, count"
   ]
  },
  {
   "cell_type": "code",
   "execution_count": null,
   "id": "1a7d2d7d",
   "metadata": {},
   "outputs": [],
   "source": [
    "#counting number of null values\n",
    "nullcount=CarFeatures[[count(when(isnan(c)|col(c).isNull,c)).alias(c) for c in CarFeatures.columns]]"
   ]
  },
  {
   "cell_type": "code",
   "execution_count": null,
   "id": "2bc19a3c",
   "metadata": {},
   "outputs": [],
   "source": [
    "d1=CarFeatures.filter(CarFeatures['model']=='M1')\n",
    "nullcount1=d1[[count(when(isnan(c)|col(c).isNull,c)).alias(c) for c in d1.columns]]"
   ]
  },
  {
   "cell_type": "code",
   "execution_count": null,
   "id": "3f796ef8",
   "metadata": {},
   "outputs": [],
   "source": [
    "#filling null values corresponding to the model M1\n",
    "d1=CarFeatures.filter(CarFeatures['model']=='M1').na.fill({ 'fuel_type':'CNG', 'max_torque':'600Nm@3500rpm',\n",
    "       'max_power':'40.36bhp@6000rpm', 'engine_type':'F8D Petrol Engine', 'airbags':2, 'is_esc':'No',\n",
    "       'is_adjustable_steering':'No', 'is_tpms':'No', 'is_parking_sensors':'Yes',\n",
    "       'is_parking_camera':'No', 'displacement':796, 'cylinder':3})"
   ]
  },
  {
   "cell_type": "code",
   "execution_count": null,
   "id": "fd9f188a",
   "metadata": {},
   "outputs": [],
   "source": [
    "d1.show(5)"
   ]
  },
  {
   "cell_type": "code",
   "execution_count": null,
   "id": "d81f8c9d",
   "metadata": {},
   "outputs": [],
   "source": [
    "d1.count()"
   ]
  },
  {
   "cell_type": "code",
   "execution_count": null,
   "id": "7b553f6f",
   "metadata": {},
   "outputs": [],
   "source": [
    "d2=CarFeatures.filter(CarFeatures['model']=='M2')\n",
    "nullcount2=d2[[count(when(isnan(c)|col(c).isNull,c)).alias(c) for c in d2.columns]]"
   ]
  },
  {
   "cell_type": "code",
   "execution_count": null,
   "id": "5b7705a6",
   "metadata": {},
   "outputs": [],
   "source": [
    "#filling null values corresponding to the model M2\n",
    "d2=CarFeatures.filter(CarFeatures['model']=='M2').na.fill({ 'fuel_type':'Petrol', 'max_torque':'113Nm@4400rpm',\n",
    "       'max_power':'88.50bhp@6000rpm', 'engine_type':'1.2 L K12N Dualjet', 'airbags':2, 'is_esc':'Yes',\n",
    "       'is_adjustable_steering':'Yes', 'is_tpms':'No', 'is_parking_sensors':'Yes',\n",
    "       'is_parking_camera':'Yes', 'displacement':1197, 'cylinder':4})"
   ]
  },
  {
   "cell_type": "code",
   "execution_count": null,
   "id": "1118bb34",
   "metadata": {},
   "outputs": [],
   "source": [
    "d2.count()"
   ]
  },
  {
   "cell_type": "code",
   "execution_count": null,
   "id": "acec016a",
   "metadata": {},
   "outputs": [],
   "source": [
    "d3=CarFeatures.filter(CarFeatures['model']=='M3')\n",
    "nullcount3=d3[[count(when(isnan(c)|col(c).isNull,c)).alias(c) for c in d3.columns]]"
   ]
  },
  {
   "cell_type": "code",
   "execution_count": null,
   "id": "b06df59d",
   "metadata": {},
   "outputs": [],
   "source": [
    "#filling null values corresponding to the model M2\n",
    "d2=CarFeatures.filter(CarFeatures['model']=='M2').na.fill({ 'fuel_type':'Petrol', 'max_torque':'113Nm@4400rpm',\n",
    "       'max_power':'88.50bhp@6000rpm', 'engine_type':'1.2 L K12N Dualjet', 'airbags':2, 'is_esc':'Yes',\n",
    "       'is_adjustable_steering':'Yes', 'is_tpms':'No', 'is_parking_sensors':'Yes',\n",
    "       'is_parking_camera':'Yes', 'displacement':1197, 'cylinder':4})"
   ]
  },
  {
   "cell_type": "code",
   "execution_count": null,
   "id": "34a8f12b",
   "metadata": {},
   "outputs": [],
   "source": [
    "d3.count()"
   ]
  },
  {
   "cell_type": "code",
   "execution_count": null,
   "id": "bda89b8b",
   "metadata": {},
   "outputs": [],
   "source": [
    "d4=CarFeatures.filter(CarFeatures['model']=='M4')\n",
    "nullcount4=d4[[count(when(isnan(c)|col(c).isNull,c)).alias(c) for c in d4.columns]]\n"
   ]
  },
  {
   "cell_type": "code",
   "execution_count": null,
   "id": "94ff12e4",
   "metadata": {},
   "outputs": [],
   "source": [
    "#filling null values corresponding to the model M4\n",
    "d4=CarFeatures.filter(CarFeatures['model']=='M4').na.fill({ 'fuel_type':'Diesel', 'max_torque':'250Nm@2750rpm',\n",
    "       'airbags':6, 'is_esc':'Yes','is_adjustable_steering':'Yes', 'is_parking_sensors':'Yes',\n",
    "       'displacement':1493, 'cylinder':4})"
   ]
  },
  {
   "cell_type": "code",
   "execution_count": null,
   "id": "1d829d4a",
   "metadata": {},
   "outputs": [],
   "source": [
    "d4.count()"
   ]
  },
  {
   "cell_type": "code",
   "execution_count": null,
   "id": "765c5aa2",
   "metadata": {},
   "outputs": [],
   "source": [
    "d5=CarFeatures.filter(CarFeatures['model']=='M5')\n",
    "nullcount5=d5[[count(when(isnan(c)|col(c).isNull,c)).alias(c) for c in d5.columns]]\n"
   ]
  },
  {
   "cell_type": "code",
   "execution_count": null,
   "id": "906b521f",
   "metadata": {},
   "outputs": [],
   "source": [
    "d5.count()"
   ]
  },
  {
   "cell_type": "code",
   "execution_count": null,
   "id": "2e7c8c9d",
   "metadata": {},
   "outputs": [],
   "source": [
    "d6=CarFeatures.filter(CarFeatures['model']=='M6')\n",
    "nullcount6=d6[[count(when(isnan(c)|col(c).isNull,c)).alias(c) for c in d6.columns]]\n"
   ]
  },
  {
   "cell_type": "code",
   "execution_count": null,
   "id": "924e4192",
   "metadata": {},
   "outputs": [],
   "source": [
    "#filling null values corresponding to the model M2\n",
    "d6=CarFeatures.filter(CarFeatures['model']=='M6').na.fill({ 'fuel_type':'Petrol', 'max_torque':'113Nm@4400rpm',\n",
    "       'max_power':'88.50bhp@6000rpm', 'engine_type':'1.2 L K12N Dualjet', 'airbags':2, 'is_esc':'Yes',\n",
    "       'is_adjustable_steering':'Yes', 'is_tpms':'No', 'is_parking_sensors':'Yes',\n",
    "       'is_parking_camera':'Yes', 'displacement':1197, 'cylinder':4})"
   ]
  },
  {
   "cell_type": "code",
   "execution_count": null,
   "id": "5def2289",
   "metadata": {},
   "outputs": [],
   "source": [
    "d6.count()"
   ]
  },
  {
   "cell_type": "code",
   "execution_count": null,
   "id": "f2136f17",
   "metadata": {},
   "outputs": [],
   "source": [
    "d7=CarFeatures.filter(CarFeatures['model']=='M7')\n",
    "nullcount7=d7[[count(when(isnan(c)|col(c).isNull,c)).alias(c) for c in d7.columns]]\n"
   ]
  },
  {
   "cell_type": "code",
   "execution_count": null,
   "id": "a62140f3",
   "metadata": {},
   "outputs": [],
   "source": [
    "#filling null values corresponding to the model M7\n",
    "d7=CarFeatures.filter(CarFeatures['model']=='M7').na.fill({ 'fuel_type':'Petrol', 'max_torque':'113Nm@4400rpm',\n",
    "       'is_parking_sensors':'Yes'})"
   ]
  },
  {
   "cell_type": "code",
   "execution_count": null,
   "id": "998d1522",
   "metadata": {},
   "outputs": [],
   "source": [
    "d7.count()"
   ]
  },
  {
   "cell_type": "code",
   "execution_count": null,
   "id": "4ac369c4",
   "metadata": {},
   "outputs": [],
   "source": [
    "d8=CarFeatures.filter(CarFeatures['model']=='M8')\n",
    "nullcount8=d8[[count(when(isnan(c)|col(c).isNull,c)).alias(c) for c in d8.columns]]\n"
   ]
  },
  {
   "cell_type": "code",
   "execution_count": null,
   "id": "45a8cd00",
   "metadata": {},
   "outputs": [],
   "source": [
    "#filling null values corresponding to the model M8\n",
    "d8=CarFeatures.filter(CarFeatures['model']=='M8').na.fill({ 'fuel_type':'CNG'})"
   ]
  },
  {
   "cell_type": "code",
   "execution_count": null,
   "id": "24893a33",
   "metadata": {},
   "outputs": [],
   "source": [
    "d8.count()"
   ]
  },
  {
   "cell_type": "code",
   "execution_count": null,
   "id": "8d8e5c06",
   "metadata": {},
   "outputs": [],
   "source": [
    "d9=CarFeatures.filter(CarFeatures['model']=='M9')\n",
    "nullcount9=d9[[count(when(isnan(c)|col(c).isNull,c)).alias(c) for c in d9.columns]]\n"
   ]
  },
  {
   "cell_type": "code",
   "execution_count": null,
   "id": "75432457",
   "metadata": {},
   "outputs": [],
   "source": [
    "#filling null values corresponding to the model M9\n",
    "d9=CarFeatures.filter(CarFeatures['model']=='M9').na.fill({ 'airbags':2,\n",
    "       'is_adjustable_steering':'Yes', 'displacement':1498, 'cylinder':4})"
   ]
  },
  {
   "cell_type": "code",
   "execution_count": null,
   "id": "367ea364",
   "metadata": {},
   "outputs": [],
   "source": [
    "d9.count()"
   ]
  },
  {
   "cell_type": "code",
   "execution_count": null,
   "id": "0c51c785",
   "metadata": {},
   "outputs": [],
   "source": [
    "d10=CarFeatures.filter(CarFeatures['model']=='M10')\n",
    "nullcount10=d10[[count(when(isnan(c)|col(c).isNull,c)).alias(c) for c in d10.columns]]\n"
   ]
  },
  {
   "cell_type": "code",
   "execution_count": null,
   "id": "582a3b62",
   "metadata": {},
   "outputs": [],
   "source": [
    "#filling null values corresponding to the model M10\n",
    "d10=CarFeatures.filter(CarFeatures['model']=='M2').na.fill({ 'fuel_type':'CNG'})"
   ]
  },
  {
   "cell_type": "code",
   "execution_count": null,
   "id": "ea8439b0",
   "metadata": {},
   "outputs": [],
   "source": [
    "d10.count()"
   ]
  },
  {
   "cell_type": "code",
   "execution_count": null,
   "id": "54785bd1",
   "metadata": {},
   "outputs": [],
   "source": [
    "d11=CarFeatures.filter(CarFeatures['model']=='M11')\n",
    "nullcount11=d11[[count(when(isnan(c)|col(c).isNull,c)).alias(c) for c in d11.columns]]\n"
   ]
  },
  {
   "cell_type": "code",
   "execution_count": null,
   "id": "6cf2a25a",
   "metadata": {},
   "outputs": [],
   "source": [
    "d11.count()"
   ]
  },
  {
   "cell_type": "code",
   "execution_count": null,
   "id": "ce2ff344",
   "metadata": {},
   "outputs": [],
   "source": [
    "#joining all values corresponding to models\n",
    "from functools import reduce\n",
    "from pyspark.sql import DataFrame\n",
    "def unionAll(*d):\n",
    "    return reduce(DataFrame.unionAll, d)"
   ]
  },
  {
   "cell_type": "code",
   "execution_count": null,
   "id": "43ce70d7",
   "metadata": {},
   "outputs": [],
   "source": [
    "final1=unionAll(d1,d2,d3,d4,d5,d6,d7,d8,d9,d10,d11)"
   ]
  },
  {
   "cell_type": "code",
   "execution_count": null,
   "id": "a6a7c865",
   "metadata": {},
   "outputs": [],
   "source": [
    "final1.count()"
   ]
  },
  {
   "cell_type": "code",
   "execution_count": null,
   "id": "11bd2c3f",
   "metadata": {},
   "outputs": [],
   "source": [
    "final= final1.orderBy(\"policy_id\")"
   ]
  },
  {
   "cell_type": "code",
   "execution_count": null,
   "id": "255489b0",
   "metadata": {},
   "outputs": [],
   "source": [
    "#spliting complex columns to simpler columns\n",
    "from pyspark.sql.functions import *\n",
    "split_cols = pyspark.sql.functions.split(final['max_torque'], '@') \n",
    "  \n",
    "\n",
    "df1 = final.withColumn('max_torque_Nm', split_cols.getItem(0)) \\  \n",
    "    .withColumn('max_torque_rpm', split_cols.getItem(1)) \n",
    "  \n",
    "\n",
    "df1.show() "
   ]
  },
  {
   "cell_type": "code",
   "execution_count": null,
   "id": "6bcdc1d3",
   "metadata": {},
   "outputs": [],
   "source": [
    "split_cols1 = pyspark.sql.functions.split(CarFeatures['max_power'], '@') \n",
    "  \n",
    "\n",
    "df2 = df1.withColumn('max_power_bhp', split_cols1.getItem(0)) \\  \n",
    "    .withColumn('max_power_rpm', split_cols1.getItem(1)) \n",
    "   \n",
    "df2.show() "
   ]
  },
  {
   "cell_type": "code",
   "execution_count": null,
   "id": "9610a720",
   "metadata": {},
   "outputs": [],
   "source": [
    "#droping the original columns after splitting it into 2 \n",
    "df3=df2.drop(\"max_power\")\n",
    "df4=df3.drop(\"max_torque\")\n",
    "#Replacing 'Yes' with 1 and 'No' with 0\n",
    "df5=df4.replace('Yes','1')\n",
    "df6=df5.replace('No','0')"
   ]
  },
  {
   "cell_type": "code",
   "execution_count": null,
   "id": "672ee74e",
   "metadata": {},
   "outputs": [],
   "source": [
    "df6.show()"
   ]
  },
  {
   "cell_type": "code",
   "execution_count": null,
   "id": "2ad84ce3",
   "metadata": {},
   "outputs": [],
   "source": [
    "#Converting datatypes of columns\n",
    "from pyspark.sql.types import IntegerType\n",
    "  \n",
    "df7 = df6 \\ \n",
    "  .withColumn(\"is_esc\" , \n",
    "              df6[\"is_esc\"] \n",
    "              .cast(IntegerType()))   \\ \n",
    "  .withColumn(\"is_adjustable_steering\", \n",
    "              df6[\"is_adjustable_steering\"] \n",
    "              .cast(IntegerType()))    \\\n",
    "  .withColumn(\"is_tpms\", \n",
    "              df6[\"is_tpms\"] \n",
    "              .cast(IntegerType()))    \\\n",
    "  .withColumn(\"is_parking_sensors\", \n",
    "              df6[\"is_parking_sensors\"] \n",
    "              .cast(IntegerType()))    \\\n",
    " .withColumn(\"is_parking_camera\", \n",
    "              df6[\"is_parking_camera\"] \n",
    "              .cast(IntegerType()))    \\\n",
    " .withColumn(\"is_front_fog_lights\", \n",
    "              df6[\"is_front_fog_lights\"] \n",
    "              .cast(IntegerType()))    \\\n",
    " .withColumn(\"is_rear_window_wiper\", \n",
    "              df6[\"is_rear_window_wiper\"] \n",
    "              .cast(IntegerType()))    \\\n",
    ".withColumn(\"is_rear_window_washer\", \n",
    "              df6[\"is_rear_window_washer\"] \n",
    "              .cast(IntegerType()))    \\\n",
    ".withColumn(\"is_rear_window_defogger\", \n",
    "              df6[\"is_rear_window_defogger\"] \n",
    "              .cast(IntegerType()))    \\\n",
    ".withColumn(\"is_brake_assist\", \n",
    "              df6[\"is_brake_assist\"] \n",
    "              .cast(IntegerType()))    \\\n",
    ".withColumn(\"is_power_door_locks\", \n",
    "              df6[\"is_power_door_locks\"] \n",
    "              .cast(IntegerType()))    \\\n",
    ".withColumn(\"is_central_locking\", \n",
    "              df6[\"is_central_locking\"] \n",
    "              .cast(IntegerType()))    \\\n",
    ".withColumn(\"is_day_night_rear_view_mirror\", \n",
    "              df6[\"is_day_night_rear_view_mirror\"] \n",
    "              .cast(IntegerType()))    \\\n",
    ".withColumn(\"is_power_steering\", \n",
    "              df6[\"is_power_steering\"] \n",
    "              .cast(IntegerType()))    \\\n",
    ".withColumn(\"is_driver_seat_height_adjustable\", \n",
    "              df6[\"is_driver_seat_height_adjustable\"] \n",
    "              .cast(IntegerType()))    \\\n",
    ".withColumn(\"is_ecw\", \n",
    "              df6[\"is_ecw\"] \n",
    "              .cast(IntegerType()))    \\\n",
    "  .withColumn(\"is_speed_alert\"  , \n",
    "              df6[\"is_speed_alert\"] \n",
    "              .cast(IntegerType())) \\ \n",
    "  \n",
    "df7.printSchema()"
   ]
  },
  {
   "cell_type": "code",
   "execution_count": null,
   "id": "0962a145",
   "metadata": {},
   "outputs": [],
   "source": [
    "df7.write.saveAsTable(\"CarFeatures1\")"
   ]
  },
  {
   "cell_type": "code",
   "execution_count": null,
   "id": "f01d9ac0",
   "metadata": {},
   "outputs": [],
   "source": [
    "spark.sql('show tables').show()"
   ]
  },
  {
   "cell_type": "code",
   "execution_count": null,
   "id": "0fa709f5",
   "metadata": {},
   "outputs": [],
   "source": [
    "Insurance=spark.sql(\"select * from InsurenceClaim join PolicyFeatures using (policy_id) join CarFeatures1 using (policy_id)\")"
   ]
  },
  {
   "cell_type": "code",
   "execution_count": null,
   "id": "fd7cba8a",
   "metadata": {},
   "outputs": [],
   "source": [
    "Insurence.show()"
   ]
  },
  {
   "cell_type": "code",
   "execution_count": null,
   "id": "55f806bc",
   "metadata": {},
   "outputs": [],
   "source": [
    "#handling null values in mearged data\n",
    "InsuranceClaim=Insurence.na.drop()"
   ]
  },
  {
   "cell_type": "code",
   "execution_count": null,
   "id": "3f9408b0",
   "metadata": {},
   "outputs": [],
   "source": []
  }
 ],
 "metadata": {
  "kernelspec": {
   "display_name": "Python 3 (ipykernel)",
   "language": "python",
   "name": "python3"
  },
  "language_info": {
   "codemirror_mode": {
    "name": "ipython",
    "version": 3
   },
   "file_extension": ".py",
   "mimetype": "text/x-python",
   "name": "python",
   "nbconvert_exporter": "python",
   "pygments_lexer": "ipython3",
   "version": "3.11.5"
  }
 },
 "nbformat": 4,
 "nbformat_minor": 5
}
